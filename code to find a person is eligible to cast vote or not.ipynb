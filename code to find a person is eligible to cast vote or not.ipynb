{
  "nbformat": 4,
  "nbformat_minor": 0,
  "metadata": {
    "colab": {
      "provenance": []
    },
    "kernelspec": {
      "name": "python3",
      "display_name": "Python 3"
    },
    "language_info": {
      "name": "python"
    }
  },
  "cells": [
    {
      "cell_type": "code",
      "source": [
        "#code to find a person is eligible to cast vote or not"
      ],
      "metadata": {
        "id": "7qizecO_mWob"
      },
      "execution_count": 7,
      "outputs": []
    },
    {
      "cell_type": "code",
      "source": [
        "age=int(input(\"enter the age\"))\n",
        "if age>=18:\n",
        "  print(\"the person is eligible to vote\")\n",
        "else:\n",
        "  print(\"the person is not eligible to vote\")"
      ],
      "metadata": {
        "id": "zSCvO9FTmq56"
      },
      "execution_count": null,
      "outputs": []
    }
  ]
}